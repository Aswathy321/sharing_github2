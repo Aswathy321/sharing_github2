{
 "cells": [
  {
   "cell_type": "code",
   "execution_count": 1,
   "metadata": {},
   "outputs": [
    {
     "name": "stdout",
     "output_type": "stream",
     "text": [
      "welcome to hangman !!\n",
      "your name:l\n",
      "Hi, l,all the best !\n",
      "Game is starting...Get ready...\n"
     ]
    }
   ],
   "source": [
    "import random\n",
    "import time\n",
    "\n",
    "print('welcome to hangman !!')\n",
    "name=input('your name:')\n",
    "print('Hi, '+name+',all the best !')\n",
    "time.sleep(1) # to halt the execution of program for few seconds\n",
    "print('Game is starting...Get ready...')"
   ]
  },
  {
   "cell_type": "code",
   "execution_count": 2,
   "metadata": {},
   "outputs": [],
   "source": [
    "def fun():\n",
    "    global count\n",
    "    global display\n",
    "    global word\n",
    "    global guess\n",
    "    global length\n",
    "    global run\n",
    "    bag_words = [\"cupcake\",\"film\",\"mother\",\"happy\",\"father\",\"god\",\"bold\",\"good\"]\n",
    "    word=random.choice(bag_words) # randomly chosed words from list\n",
    "    length=len(word)\n",
    "    count=0 # initialize to zero,will be incremented\n",
    "    display=' _ '*length # gives idea about lenght of word\n",
    "    guess=[] # string index of correct guesses\n",
    "    run=\" \""
   ]
  },
  {
   "cell_type": "code",
   "execution_count": 3,
   "metadata": {},
   "outputs": [],
   "source": [
    "def replay():  # function takes an argument to play\n",
    "    global run\n",
    "    run=input('Want to play ? y=yes,n=no')\n",
    "    # run argument is to continue play or end according to player\n",
    "    while run not in ['y','n','Y','N']: \n",
    "    # if user provides input other than listed here,while loop again execute 'run' argument\n",
    "        run=input('want to play again? y=yes,n=no')\n",
    "    if run == 'y':\n",
    "        fun()\n",
    "    elif run =='n':\n",
    "        print('Thanks for playing,will see you again!')\n",
    "        exit()"
   ]
  },
  {
   "cell_type": "code",
   "execution_count": 8,
   "metadata": {
    "scrolled": false
   },
   "outputs": [
    {
     "name": "stdout",
     "output_type": "stream",
     "text": [
      "hangman word:  _  _  _  _  _  _  enter guess:\n",
      "\n",
      "e\n"
     ]
    },
    {
     "ename": "TypeError",
     "evalue": "must be str, not list",
     "output_type": "error",
     "traceback": [
      "\u001b[1;31m---------------------------------------------------------------------------\u001b[0m",
      "\u001b[1;31mTypeError\u001b[0m                                 Traceback (most recent call last)",
      "\u001b[1;32m<ipython-input-8-89d3c364a810>\u001b[0m in \u001b[0;36m<module>\u001b[1;34m\u001b[0m\n\u001b[0;32m     83\u001b[0m \u001b[1;33m\u001b[0m\u001b[0m\n\u001b[0;32m     84\u001b[0m \u001b[0mfun\u001b[0m\u001b[1;33m(\u001b[0m\u001b[1;33m)\u001b[0m\u001b[1;33m\u001b[0m\u001b[1;33m\u001b[0m\u001b[0m\n\u001b[1;32m---> 85\u001b[1;33m \u001b[0mgame\u001b[0m\u001b[1;33m(\u001b[0m\u001b[1;33m)\u001b[0m\u001b[1;33m\u001b[0m\u001b[1;33m\u001b[0m\u001b[0m\n\u001b[0m",
      "\u001b[1;32m<ipython-input-8-89d3c364a810>\u001b[0m in \u001b[0;36mgame\u001b[1;34m()\u001b[0m\n\u001b[0;32m     15\u001b[0m     \u001b[1;32melif\u001b[0m \u001b[0mgs\u001b[0m \u001b[1;32min\u001b[0m \u001b[0mword\u001b[0m\u001b[1;33m:\u001b[0m\u001b[1;33m\u001b[0m\u001b[1;33m\u001b[0m\u001b[0m\n\u001b[0;32m     16\u001b[0m         \u001b[0mguess\u001b[0m\u001b[1;33m.\u001b[0m\u001b[0mextend\u001b[0m\u001b[1;33m(\u001b[0m\u001b[1;33m[\u001b[0m\u001b[0mgs\u001b[0m\u001b[1;33m]\u001b[0m\u001b[1;33m)\u001b[0m\u001b[1;33m\u001b[0m\u001b[1;33m\u001b[0m\u001b[0m\n\u001b[1;32m---> 17\u001b[1;33m         \u001b[0mindex\u001b[0m\u001b[1;33m=\u001b[0m\u001b[0mword\u001b[0m\u001b[1;33m.\u001b[0m\u001b[0mfind\u001b[0m\u001b[1;33m(\u001b[0m\u001b[0mguess\u001b[0m\u001b[1;33m)\u001b[0m\u001b[1;33m\u001b[0m\u001b[1;33m\u001b[0m\u001b[0m\n\u001b[0m\u001b[0;32m     18\u001b[0m         \u001b[0mword\u001b[0m\u001b[1;33m=\u001b[0m\u001b[0mword\u001b[0m\u001b[1;33m[\u001b[0m\u001b[1;33m:\u001b[0m\u001b[0mindex\u001b[0m\u001b[1;33m]\u001b[0m \u001b[1;33m+\u001b[0m \u001b[1;34m'_'\u001b[0m \u001b[1;33m+\u001b[0m \u001b[0mword\u001b[0m\u001b[1;33m[\u001b[0m\u001b[0mindex\u001b[0m \u001b[1;33m+\u001b[0m \u001b[1;36m1\u001b[0m\u001b[1;33m:\u001b[0m\u001b[1;33m]\u001b[0m\u001b[1;33m\u001b[0m\u001b[1;33m\u001b[0m\u001b[0m\n\u001b[0;32m     19\u001b[0m         \u001b[0mdisplay\u001b[0m\u001b[1;33m=\u001b[0m\u001b[0mdisplay\u001b[0m\u001b[1;33m[\u001b[0m\u001b[1;33m:\u001b[0m\u001b[0mindex\u001b[0m\u001b[1;33m]\u001b[0m\u001b[1;33m+\u001b[0m \u001b[0mgs\u001b[0m \u001b[1;33m+\u001b[0m \u001b[0mdisplay\u001b[0m\u001b[1;33m[\u001b[0m\u001b[0mindex\u001b[0m \u001b[1;33m+\u001b[0m \u001b[1;36m1\u001b[0m\u001b[1;33m:\u001b[0m\u001b[1;33m]\u001b[0m\u001b[1;33m\u001b[0m\u001b[1;33m\u001b[0m\u001b[0m\n",
      "\u001b[1;31mTypeError\u001b[0m: must be str, not list"
     ]
    }
   ],
   "source": [
    "def game():\n",
    "    global count\n",
    "    global display\n",
    "    global word\n",
    "    global guess\n",
    "    global run\n",
    "    limit=6\n",
    "    gs=input(\"hangman word: \" + display + \" enter guess:\\n\\n\")\n",
    "    gs=gs.strip() # .strip removes the letter from given word\n",
    "    if len(gs.strip()) == 0 or len(gs.strip()) > 1 or gs <= \"9\":\n",
    "# no letter input given, >=2 letters given,a number input <=9 is given \n",
    "# loop checks and provide error message to user\n",
    "        print('error in input,try other\\n')\n",
    "        #game()\n",
    "    elif gs in word:\n",
    "        guess.extend([gs])\n",
    "        index=word.find(guess)\n",
    "        word=word[:index] + '_' + word[index + 1:]\n",
    "        display=display[:index]+ gs + display[index + 1:]\n",
    "        print(display+'\\n')\n",
    "    elif gs in guess:\n",
    "        print('already entered,try other \\n')\n",
    "    else:\n",
    "        count+=1\n",
    "        if count ==1:\n",
    "            time.sleep(2)\n",
    "            print(' ___\\n'\n",
    "                 ' |   \\n'\n",
    "                 ' |   \\n'\n",
    "                 ' |   \\n'\n",
    "                 '_|_  \\n')\n",
    "            print('it was wrong ' + str(limit-count)+' guesses remaining\\n')\n",
    "        elif count ==2:\n",
    "            time.sleep(2)\n",
    "            print(' ___\\n'\n",
    "                  '|   |\\n'\n",
    "                  '|    \\n'\n",
    "                 ' |   \\n'\n",
    "                 ' |_|_\\n')\n",
    "            print('it was wrong ' + str(limit-count)+' guesses remaining\\n')\n",
    "        elif count ==3:\n",
    "            time.sleep(2)\n",
    "            print(' ___\\n'\n",
    "                  '|   |\\n'\n",
    "                  '|   |\\n'\n",
    "                 ' |   |\\n'\n",
    "                 '_|_   \\n')\n",
    "            print('it was wrong ' + str(limit-count)+' guesses remaining\\n')\n",
    "        elif count ==4:\n",
    "            print(' ___\\n'\n",
    "                  '|   |\\n'\n",
    "                  '|   |\\n'\n",
    "                  '|   o\\n'\n",
    "                 ' |    \\n'\n",
    "                 '_|_   \\n')\n",
    "            print('it was wrong ' + str(limit-count)+' guesses remaining\\n')\n",
    "        elif count ==5:\n",
    "            print(' ___\\n'\n",
    "                  '|   |\\n'\n",
    "                  '|   |\\n'\n",
    "                  '|   o \\n'\n",
    "                  '|  /|\\\\n'\n",
    "                 ' |     \\n'\n",
    "                 '_|_    \\n')\n",
    "            print('it was wrong ' + str(limit-count)+' guesses remaining\\n')\n",
    "        elif count ==6:\n",
    "            print(' __\\n'\n",
    "                  '|  |\\n'\n",
    "                  '|  |\\n'\n",
    "                  '|  o\\n'\n",
    "                  '| /|\\ \\n'\n",
    "                 ' | /|\\ \\n'\n",
    "                 '_|_    \\n')\n",
    "            print('it was wrong,reached limit.you are hanged\\n')\n",
    "            print('word was:',guess,word)\n",
    "            replay()\n",
    "    \n",
    "    if word =='_' * length:\n",
    "        print('great,you guessed correctly!')\n",
    "        replay()\n",
    "    elif count != limit:\n",
    "        game()\n",
    "\n",
    "fun()\n",
    "game()"
   ]
  },
  {
   "cell_type": "code",
   "execution_count": null,
   "metadata": {},
   "outputs": [],
   "source": []
  },
  {
   "cell_type": "code",
   "execution_count": null,
   "metadata": {},
   "outputs": [],
   "source": []
  }
 ],
 "metadata": {
  "kernelspec": {
   "display_name": "Python 3",
   "language": "python",
   "name": "python3"
  },
  "language_info": {
   "codemirror_mode": {
    "name": "ipython",
    "version": 3
   },
   "file_extension": ".py",
   "mimetype": "text/x-python",
   "name": "python",
   "nbconvert_exporter": "python",
   "pygments_lexer": "ipython3",
   "version": "3.8.3"
  }
 },
 "nbformat": 4,
 "nbformat_minor": 4
}
