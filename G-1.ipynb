{
 "cells": [
  {
   "cell_type": "code",
   "execution_count": 23,
   "metadata": {},
   "outputs": [],
   "source": [
    "from tkinter import * # standard Graphical User Interface library for games\n",
    "import random   # to generate random numbers\n",
    "\n",
    "win=Tk()   # to initialize tkinter window\n",
    "win.geometry('400x300') # windows width and height\n",
    "win.resizable(0,0)  # this command help to fix size of window\n",
    "win.title('G-1=3:1') # title of window\n",
    "win.config(bg='seashell3')  # for bg color\n",
    "\n",
    "Label(win,text='Rock,Paper,Scissor',font='TimesofRoman 18 bold',\n",
    "     bg='seashell2').pack() \n",
    "# label includes text that users want to modify\n",
    "# pack is to organize altogether as a block\n",
    "\n",
    "player=StringVar() # string variable stores by user\n",
    "Label(win,text='Pick one:rock,paper,scissors',font='arial 15 bold',\n",
    "     bg='seashell2').place(x=20,y=70)\n",
    "Entry(win,font='arial 15',textvariable=player,bg='yellow').place(x=90,y=130)\n",
    "# entry widget is to create an input text field\n",
    "# place is to specify the position\n",
    "# textvariable to retrieve the text to entry \n",
    "\n",
    "\n",
    "back_end=random.randint(1,3)# randomly take any number from list\n",
    "if back_end ==1:\n",
    "    back_end = 'rock'\n",
    "elif back_end ==2:\n",
    "    back_end = 'paper'\n",
    "else:\n",
    "    back_end = 'scissors'\n",
    "\n",
    "#Button(win,font='arial 15 bold',padx=5,command=virt,\n",
    " #      bg='yellow').place(x=70,y=110)\n",
    "#print(back_end)     \n",
    "\n",
    "\n",
    "res=StringVar()\n",
    "def game():\n",
    "    front_end=player.get() # front_end a string variable ,stores user entered choices\n",
    "    if front_end == back_end:\n",
    "        res.set('Both choose same,please Pick other')\n",
    "    elif front_end =='rock' and back_end =='paper':\n",
    "        res.set('you loose,paper covers rock')\n",
    "    elif front_end == 'rock' and back_end == 'scissor':\n",
    "        res.set('you won,rock breaks scissor')\n",
    "    elif front_end == 'paper' and back_end == 'scissor':\n",
    "        res.set('you loose,scissor tears paper')\n",
    "    elif front_end == 'paper' and back_end == 'rock':\n",
    "        res.set('you won,paper covers rock')\n",
    "    elif front_end == 'scissor' and back_end == 'rock':\n",
    "        res.set('you loose,rock breaks scissor')\n",
    "    elif front_end == 'scissor' and back_end == 'paper':\n",
    "        res.set('you won,scissor tears paper')\n",
    "    else:\n",
    "        res.set('error:pick one from list only')\n",
    "            \n",
    "    \n",
    "def reset():        \n",
    "    res.set(\"\")\n",
    "    player.set(\"\")\n",
    "# function to set all variables to an empty set\n",
    "\n",
    "def exit():\n",
    "    win.destroy() # quit the program by stop mainloop()\n",
    "# function to exit"
   ]
  },
  {
   "cell_type": "code",
   "execution_count": 24,
   "metadata": {
    "scrolled": true
   },
   "outputs": [],
   "source": [
    "Entry(win,font='arial 12 bold',textvariable =res,bg='green',\n",
    "      width=50,).place(x=25,y=250)\n",
    "Button(win,font='arial 15 bold',text='RUN',padx=6,bg='red',\n",
    "       command=game).place(x=150,y=190)\n",
    "Button(win,font='arial 15 bold',text='Re-RUN',padx=6,\n",
    "      bg='red',command=reset).place(x=70,y=310)\n",
    "Button(win,font='arial 15 bold',text='QUIT',padx=6,bg='red',\n",
    "      command=exit).place(x=230,y=310)\n",
    "\n",
    "win.mainloop()"
   ]
  },
  {
   "cell_type": "code",
   "execution_count": null,
   "metadata": {},
   "outputs": [],
   "source": []
  }
 ],
 "metadata": {
  "kernelspec": {
   "display_name": "Python 3",
   "language": "python",
   "name": "python3"
  },
  "language_info": {
   "codemirror_mode": {
    "name": "ipython",
    "version": 3
   },
   "file_extension": ".py",
   "mimetype": "text/x-python",
   "name": "python",
   "nbconvert_exporter": "python",
   "pygments_lexer": "ipython3",
   "version": "3.8.3"
  }
 },
 "nbformat": 4,
 "nbformat_minor": 4
}
